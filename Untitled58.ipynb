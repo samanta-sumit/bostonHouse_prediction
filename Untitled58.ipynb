{
 "cells": [
  {
   "cell_type": "code",
   "execution_count": 30,
   "id": "9b55ae9a",
   "metadata": {},
   "outputs": [
    {
     "name": "stdout",
     "output_type": "stream",
     "text": [
      "   Rank        Country Country Code  Gold  Silver  Bronze  Total\n",
      "0     1  United States           US    40      44      42    126\n",
      "1     2          China          CHN    40      27      24     91\n",
      "2     3          Japan          JPN    20      12      13     45\n",
      "3     4      Australia          AUS    18      19      16     53\n",
      "4     5         France          FRA    16      26      22     64\n",
      "5     6    Netherlands          NED    15       7      12     34\n",
      "6     7  Great Britain          GBG    14      22      29     65\n",
      "7     8    South Korea          KOR    13       9      10     32\n",
      "8     9          Italy          ITA    12      13      15     40\n",
      "9    10        Germany          GER    12      13       8     33\n"
     ]
    }
   ],
   "source": [
    "import pandas as pd\n",
    "\n",
    "\n",
    "def load_data(file_path):\n",
    "    if file_path.endswith('.csv'):\n",
    "        data = pd.read_csv(file_path)\n",
    "    elif file_path.endswith('.json'):\n",
    "        data = pd.read_json(file_path)\n",
    "    elif file_path.endswith('.xlsx') or file_path.endswith('.xls'):\n",
    "        data = pd.read_excel(file_path)\n",
    "    else:\n",
    "        raise ValueError(\"Unsupported file format!\")\n",
    "    return data\n",
    "\n",
    "\n",
    "file_path = r'C:\\Users\\91766\\olympics2024.csv.xlsx'\n",
    "data = load_data(file_path)\n",
    "print(data.head(10))"
   ]
  },
  {
   "cell_type": "code",
   "execution_count": 36,
   "id": "805dc761",
   "metadata": {},
   "outputs": [],
   "source": [
    "def preprocess_data(data):\n",
    "    # Handling missing values\n",
    "    df = df.fillna(df.median(numeric_only=True)) \n",
    "    # Removing duplicates\n",
    "    data = data.drop_duplicates()\n",
    "    \n",
    "     # Identifying categorical columns\n",
    "    categorical_columns = data.select_dtypes(include=['object']).columns\n",
    "    \n",
    "    \n",
    "   # Encoding categorical variables\n",
    "    for col in categorical_columns:\n",
    "        if data[col].nunique() < 10:  # Optional: Only encode columns with a small number of unique values\n",
    "            data = pd.get_dummies(data, columns=[col], drop_first=True)  # drop_first=True to avoid multicollinearity\n",
    "        else:\n",
    "            data[col] = data[col].astype('category').cat.codes  # Label encoding for high cardinality\n",
    "    \n",
    "    \n",
    "     # Removing outliers using the IQR method\n",
    "    numeric_cols = data.select_dtypes(include=['float64', 'int64']).columns\n",
    "    for col in numeric_cols:\n",
    "        Q1 = data[col].quantile(0.25)\n",
    "        Q3 = data[col].quantile(0.75)\n",
    "        IQR = Q3 - Q1\n",
    "        lower_bound = Q1 - 1.5 * IQR\n",
    "        upper_bound = Q3 + 1.5 * IQR\n",
    "        data = data[(data[col] >= lower_bound) & (data[col] <= upper_bound)]\n",
    "   \n",
    "    \n",
    "    return data"
   ]
  },
  {
   "cell_type": "code",
   "execution_count": 38,
   "id": "7330c6e7",
   "metadata": {},
   "outputs": [
    {
     "name": "stdout",
     "output_type": "stream",
     "text": [
      "    Rank  Country  Country Code  Gold  Silver  Bronze  Total\n",
      "15    16       80            79     4       4       3     11\n",
      "16    17       49            49     4       2       5     11\n",
      "17    18       61            61     4       1       3      8\n",
      "18    19       41            41     4       0       3      7\n",
      "21    22       87            87     3       5       4     12\n",
      "22    23       71            72     3       4       2      9\n",
      "23    24       30            32     3       3       1      7\n",
      "24    25        8             7     3       1       6     10\n",
      "25    26       11            11     3       1       3      7\n",
      "26    27       72            74     3       1       1      5\n"
     ]
    }
   ],
   "source": [
    "data1 = preprocess_data(data)\n",
    "print(data1.head(10))\n"
   ]
  },
  {
   "cell_type": "code",
   "execution_count": 35,
   "id": "a900b566",
   "metadata": {
    "scrolled": true
   },
   "outputs": [
    {
     "name": "stdout",
     "output_type": "stream",
     "text": [
      "<class 'pandas.core.frame.DataFrame'>\n",
      "RangeIndex: 91 entries, 0 to 90\n",
      "Data columns (total 7 columns):\n",
      " #   Column        Non-Null Count  Dtype \n",
      "---  ------        --------------  ----- \n",
      " 0   Rank          91 non-null     int64 \n",
      " 1   Country       91 non-null     object\n",
      " 2   Country Code  91 non-null     object\n",
      " 3   Gold          91 non-null     int64 \n",
      " 4   Silver        91 non-null     int64 \n",
      " 5   Bronze        91 non-null     int64 \n",
      " 6   Total         91 non-null     int64 \n",
      "dtypes: int64(5), object(2)\n",
      "memory usage: 5.1+ KB\n",
      "None\n"
     ]
    }
   ],
   "source": [
    "print(data.info())"
   ]
  },
  {
   "cell_type": "code",
   "execution_count": null,
   "id": "f5b954ad",
   "metadata": {},
   "outputs": [],
   "source": [
    "from sklearn.linear_model import LinearRegression\n",
    "from sklearn.cluster import KMeans\n",
    "from sklearn.tree import DecisionTreeClassifier\n",
    "from sklearn.model_selection import train_test_split\n",
    "from sklearn.metrics import accuracy_score\n",
    "\n",
    "def run_linear_regression(X, y):\n",
    "    model = LinearRegression()\n",
    "    model.fit(X, y)\n",
    "    return model\n",
    "\n",
    "def run_kmeans_clustering(X, n_clusters=3):\n",
    "    model = KMeans(n_clusters=n_clusters)\n",
    "    model.fit(X)\n",
    "    return model\n",
    "\n",
    "def run_decision_tree_classification(X, y):\n",
    "    X_train, X_test, y_train, y_test = train_test_split(X, y, test_size=0.2)\n",
    "    model = DecisionTreeClassifier()\n",
    "    model.fit(X_train, y_train)\n",
    "    y_pred = model.predict(X_test)\n",
    "    accuracy = accuracy_score(y_test, y_pred)\n",
    "    return model, accuracy\n",
    "    "
   ]
  },
  {
   "cell_type": "code",
   "execution_count": null,
   "id": "2515d464",
   "metadata": {},
   "outputs": [],
   "source": []
  }
 ],
 "metadata": {
  "kernelspec": {
   "display_name": "Python 3 (ipykernel)",
   "language": "python",
   "name": "python3"
  },
  "language_info": {
   "codemirror_mode": {
    "name": "ipython",
    "version": 3
   },
   "file_extension": ".py",
   "mimetype": "text/x-python",
   "name": "python",
   "nbconvert_exporter": "python",
   "pygments_lexer": "ipython3",
   "version": "3.9.13"
  }
 },
 "nbformat": 4,
 "nbformat_minor": 5
}
